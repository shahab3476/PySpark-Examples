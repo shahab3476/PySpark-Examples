{
 "cells": [
  {
   "cell_type": "code",
   "execution_count": 8,
   "metadata": {
    "collapsed": false
   },
   "outputs": [
    {
     "name": "stdout",
     "output_type": "stream",
     "text": [
      "_1 _2\n",
      "a  1 \n",
      "b  2 \n",
      "c  3 \n"
     ]
    }
   ],
   "source": [
    "from pyspark.sql.types import * \n",
    "from pyspark.sql.functions import *\n",
    "\n",
    "# make a data frame;\n",
    "a_list = [('a', 1), ('b', 2), ('c', 3)]\n",
    "df = sqlContext.createDataFrame(a_list)\n",
    "\n",
    "# multiple ways to print the content of the data frame\n",
    "print df\n",
    "print df.collect()\n",
    "df.show()"
   ]
  },
  {
   "cell_type": "markdown",
   "metadata": {},
   "source": [
    "Some Schema examples/uses"
   ]
  },
  {
   "cell_type": "code",
   "execution_count": 11,
   "metadata": {
    "collapsed": false
   },
   "outputs": [
    {
     "name": "stdout",
     "output_type": "stream",
     "text": [
      "[Row(letters=u'a', numbers=1), Row(letters=u'b', numbers=2), Row(letters=u'c', numbers=3)]\n",
      "root\n",
      " |-- letters: string (nullable = true)\n",
      " |-- numbers: long (nullable = true)\n",
      "\n"
     ]
    }
   ],
   "source": [
    "# give a name to each part of data frame\n",
    "df = sqlContext.createDataFrame(a_list, ['letters', 'numbers']) \n",
    "print df.collect()\n",
    "df.printSchema()"
   ]
  },
  {
   "cell_type": "code",
   "execution_count": 21,
   "metadata": {
    "collapsed": false
   },
   "outputs": [
    {
     "name": "stdout",
     "output_type": "stream",
     "text": [
      "[u'letters', u'numbers']\n",
      "[('letters', 'string'), ('numbers', 'int')]\n",
      "[Row(letters=u'a', numbers=1), Row(letters=u'b', numbers=2)]\n",
      "summary numbers           \n",
      "count   3                 \n",
      "mean    2.0               \n",
      "stddev  0.8164965809277263\n",
      "min     1                 \n",
      "max     3                 \n"
     ]
    }
   ],
   "source": [
    "# Define the schema format (name, type, isnullable)\n",
    "schema = StructType([\n",
    "    StructField('letters', StringType(), True),\n",
    "    StructField('numbers', IntegerType(), True)])\n",
    "\n",
    "# Create an RDD from a list\n",
    "rdd = sc.parallelize(a_list)\n",
    "\n",
    "# Create the DataFrame using schema\n",
    "df = sqlContext.createDataFrame(rdd, schema)\n",
    "\n",
    "# Print info from data frames\n",
    "print df.columns\n",
    "print df.dtypes\n",
    "\n",
    "print df.head(2)\n",
    "df.describe().show()"
   ]
  },
  {
   "cell_type": "markdown",
   "metadata": {},
   "source": [
    "Similar to SQL type transformation done on data frames:\n",
    "Group by / Union/ Aggregation"
   ]
  },
  {
   "cell_type": "code",
   "execution_count": 51,
   "metadata": {
    "collapsed": false
   },
   "outputs": [
    {
     "name": "stdout",
     "output_type": "stream",
     "text": [
      "letters numbers\n",
      "a       1      \n",
      "b       2      \n",
      "b       2      \n",
      "c       3      \n",
      "c       3      \n",
      "letters SUM(numbers)\n",
      "a       1           \n",
      "b       4           \n",
      "c       6           \n"
     ]
    }
   ],
   "source": [
    "# union and order by examples (also filter the numbers in the second dataframe)\n",
    "df2 = df.unionAll(df.filter(df.numbers > 1)).orderBy('letters')\n",
    "df2.show()\n",
    "\n",
    "# use groupby and perform aggregate fucntions\n",
    "df2.groupBy('letters').sum().show()"
   ]
  },
  {
   "cell_type": "code",
   "execution_count": null,
   "metadata": {
    "collapsed": true
   },
   "outputs": [],
   "source": []
  }
 ],
 "metadata": {
  "kernelspec": {
   "display_name": "Python 2",
   "language": "python",
   "name": "python2"
  },
  "language_info": {
   "codemirror_mode": {
    "name": "ipython",
    "version": 2
   },
   "file_extension": ".py",
   "mimetype": "text/x-python",
   "name": "python",
   "nbconvert_exporter": "python",
   "pygments_lexer": "ipython2",
   "version": "2.7.6"
  }
 },
 "nbformat": 4,
 "nbformat_minor": 0
}
